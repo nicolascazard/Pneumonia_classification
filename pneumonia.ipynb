{
 "cells": [
  {
   "cell_type": "markdown",
   "metadata": {},
   "source": [
    "# 0) Introduction"
   ]
  },
  {
   "cell_type": "markdown",
   "metadata": {},
   "source": [
    "This notebook will show you how to use CNN to classify case of pneumonia from chest-X ray images from [this dataset](https://www.kaggle.com/paultimothymooney/chest-xray-pneumonia/download) .  \n",
    "It contains 5856 scans with various size that we will reshape to $128\\times128\\times3$. We use 3 channels for compatibility with pre-trained networks.    \n",
    "To classify these scans, we will use Transfer Learning with an EfficientNetB0, that will then be Fine Tuned to improve even more our results.  \n",
    "\n",
    "Our solution obtain a recall and a precision of about 0.98 on the test set."
   ]
  },
  {
   "cell_type": "markdown",
   "metadata": {},
   "source": [
    "# 1) Input preparation"
   ]
  },
  {
   "cell_type": "code",
   "execution_count": 323,
   "metadata": {},
   "outputs": [],
   "source": [
    "import numpy as np\n",
    "import os\n",
    "import cv2\n",
    "import tensorflow as tf\n",
    "from sklearn.model_selection import train_test_split\n",
    "import matplotlib.pyplot as plt\n",
    "import matplotlib.image as mpimg\n",
    "\n",
    "from tensorflow.compat.v1 import ConfigProto\n",
    "from tensorflow.compat.v1 import InteractiveSession\n",
    "import glob\n",
    "from pathlib import Path\n",
    "\n",
    "config = ConfigProto()\n",
    "config.gpu_options.allow_growth = True\n",
    "session = InteractiveSession(config=config)"
   ]
  },
  {
   "cell_type": "code",
   "execution_count": 338,
   "metadata": {},
   "outputs": [],
   "source": [
    "def get_inputs(filepath):\n",
    "    X = []\n",
    "    for file in filepath:\n",
    "        img = mpimg.imread(file)\n",
    "        resized_img = cv2.resize(img, (64, 64))#We resize them to 128*128\n",
    "        if len(resized_img.shape)!=3: #Some images have 3 identical channels instead of 1\n",
    "            resized_img = np.stack((resized_img, resized_img, resized_img), axis=-1)\n",
    "\n",
    "        X.append(resized_img)\n",
    "    X = np.array(X)\n",
    "    \n",
    "    y=[]\n",
    "    for file in filepath:\n",
    "        if \"NORMAL\" in file:\n",
    "            y.append(0)\n",
    "        if \"PNEUMONIA\" in file:\n",
    "            y.append(1)\n",
    "    y = np.expand_dims(y, axis=-1)\n",
    "    \n",
    "    return X, y\n",
    "\n",
    "def type_pred(list_true, list_pred):\n",
    "    TP, FP, TN, FN = 0, 0, 0, 0\n",
    "    for y_true, y_pred in zip(list_true, list_pred):\n",
    "        if not y_true and not y_pred:\n",
    "            TN+=1\n",
    "        elif not y_true:\n",
    "            FP+=1\n",
    "        elif not y_pred:\n",
    "            FN+=1\n",
    "        else:\n",
    "            TP+=1\n",
    "    return TP, FP, TN, FN\n",
    "\n",
    "def get_scores(list_true, list_pred):\n",
    "    TP, FP, TN, FN = type_pred(list_true, list_pred)\n",
    "    precision = TP/(TP+FP)\n",
    "    recall = TP/(TP+FN)\n",
    "    F1_score = 2*(precision*recall)/(precision+recall)\n",
    "    return precision, recall, F1_score"
   ]
  },
  {
   "cell_type": "markdown",
   "metadata": {},
   "source": [
    "As the validation set contains only 16 images, we are going to recreate a validation and test set with a (80/10/10) partition :  "
   ]
  },
  {
   "cell_type": "code",
   "execution_count": 339,
   "metadata": {},
   "outputs": [],
   "source": [
    "filepath = glob.glob('chest_xray/train/*/*')+glob.glob('chest_xray/val/*/*')+glob.glob('chest_xray/test/*/*')\n",
    "X, y = get_inputs(filepath)\n",
    "\n",
    "X_train, X_test, y_train, y_test = train_test_split(X, y, shuffle=True, test_size=0.2, random_state=0)\n",
    "X_valid, X_test, y_valid, y_test = train_test_split(X_test, y_test, test_size=0.5, random_state=0)"
   ]
  },
  {
   "cell_type": "code",
   "execution_count": 340,
   "metadata": {},
   "outputs": [
    {
     "name": "stdout",
     "output_type": "stream",
     "text": [
      "(4684, 64, 64, 3) (586, 64, 64, 3) (586, 64, 64, 3)\n",
      "(4684, 1) (586, 1) (586, 1)\n"
     ]
    }
   ],
   "source": [
    "print (X_train.shape, X_valid.shape, X_test.shape)\n",
    "print (y_train.shape, y_valid.shape, y_test.shape)"
   ]
  },
  {
   "cell_type": "markdown",
   "metadata": {},
   "source": [
    "# 2) Training our model : EfficientNetB0"
   ]
  },
  {
   "cell_type": "markdown",
   "metadata": {},
   "source": [
    "We will do Transfer Learning with a pre-trained EfficientNet on imagenet"
   ]
  },
  {
   "cell_type": "code",
   "execution_count": 341,
   "metadata": {},
   "outputs": [
    {
     "name": "stdout",
     "output_type": "stream",
     "text": [
      "Model: \"sequential_25\"\n",
      "_________________________________________________________________\n",
      "Layer (type)                 Output Shape              Param #   \n",
      "=================================================================\n",
      "efficientnetb0 (Functional)  (None, 2, 2, 1280)        4049571   \n",
      "_________________________________________________________________\n",
      "global_average_pooling2d_15  (None, 1280)              0         \n",
      "_________________________________________________________________\n",
      "batch_normalization_15 (Batc (None, 1280)              5120      \n",
      "_________________________________________________________________\n",
      "dropout_14 (Dropout)         (None, 1280)              0         \n",
      "_________________________________________________________________\n",
      "dense_36 (Dense)             (None, 1)                 1281      \n",
      "=================================================================\n",
      "Total params: 4,055,972\n",
      "Trainable params: 3,841\n",
      "Non-trainable params: 4,052,131\n",
      "_________________________________________________________________\n"
     ]
    }
   ],
   "source": [
    "#EfficientNet pre-trained\n",
    "from tensorflow.keras.applications import EfficientNetB0\n",
    "from tensorflow.keras.models import Model, Sequential\n",
    "from tensorflow.keras.layers import BatchNormalization, Dense, Flatten, GlobalAveragePooling2D, Dropout\n",
    "\n",
    "model = Sequential()\n",
    "conv_base = EfficientNetB0(input_shape=(64, 64, 3), include_top=False, weights='imagenet')\n",
    "\n",
    "model.add(conv_base)\n",
    "\n",
    "model.add(GlobalAveragePooling2D())\n",
    "model.add(BatchNormalization())\n",
    "\n",
    "model.add(Dropout(0.2))\n",
    "model.add(Dense(1, activation = 'sigmoid'))\n",
    "\n",
    "for layer in conv_base.layers:\n",
    "    layer.trainable = False\n",
    "    \n",
    "model.summary()"
   ]
  },
  {
   "cell_type": "code",
   "execution_count": 342,
   "metadata": {},
   "outputs": [
    {
     "name": "stdout",
     "output_type": "stream",
     "text": [
      "Epoch 1/50\n",
      "143/147 [============================>.] - ETA: 0s - loss: 0.3483 - accuracy: 0.8896\n",
      "Epoch 00001: val_accuracy improved from -inf to 0.76280, saving model to save_models/effnet.h5\n",
      "147/147 [==============================] - 2s 15ms/step - loss: 0.3471 - accuracy: 0.8901 - val_loss: 0.4602 - val_accuracy: 0.7628\n",
      "Epoch 2/50\n",
      "140/147 [===========================>..] - ETA: 0s - loss: 0.2889 - accuracy: 0.9134\n",
      "Epoch 00002: val_accuracy improved from 0.76280 to 0.87884, saving model to save_models/effnet.h5\n",
      "147/147 [==============================] - 2s 13ms/step - loss: 0.2899 - accuracy: 0.9131 - val_loss: 0.3205 - val_accuracy: 0.8788\n",
      "Epoch 3/50\n",
      "146/147 [============================>.] - ETA: 0s - loss: 0.3023 - accuracy: 0.9082\n",
      "Epoch 00003: val_accuracy improved from 0.87884 to 0.94198, saving model to save_models/effnet.h5\n",
      "147/147 [==============================] - 2s 12ms/step - loss: 0.3034 - accuracy: 0.9080 - val_loss: 0.1609 - val_accuracy: 0.9420\n",
      "Epoch 4/50\n",
      "146/147 [============================>.] - ETA: 0s - loss: 0.2657 - accuracy: 0.9191\n",
      "Epoch 00004: val_accuracy did not improve from 0.94198\n",
      "147/147 [==============================] - 2s 13ms/step - loss: 0.2672 - accuracy: 0.9184 - val_loss: 0.1832 - val_accuracy: 0.9317\n",
      "Epoch 5/50\n",
      "143/147 [============================>.] - ETA: 0s - loss: 0.2409 - accuracy: 0.9229\n",
      "Epoch 00005: val_accuracy improved from 0.94198 to 0.95051, saving model to save_models/effnet.h5\n",
      "147/147 [==============================] - 1s 10ms/step - loss: 0.2414 - accuracy: 0.9225 - val_loss: 0.1791 - val_accuracy: 0.9505\n",
      "Epoch 6/50\n",
      "140/147 [===========================>..] - ETA: 0s - loss: 0.2528 - accuracy: 0.9138\n",
      "Epoch 00006: val_accuracy did not improve from 0.95051\n",
      "147/147 [==============================] - 1s 10ms/step - loss: 0.2508 - accuracy: 0.9150 - val_loss: 0.2014 - val_accuracy: 0.9403\n",
      "Epoch 7/50\n",
      "146/147 [============================>.] - ETA: 0s - loss: 0.2487 - accuracy: 0.9185\n",
      "Epoch 00007: val_accuracy did not improve from 0.95051\n",
      "147/147 [==============================] - 2s 14ms/step - loss: 0.2496 - accuracy: 0.9182 - val_loss: 0.1975 - val_accuracy: 0.9249\n",
      "Epoch 8/50\n",
      "146/147 [============================>.] - ETA: 0s - loss: 0.2290 - accuracy: 0.9219\n",
      "Epoch 00008: ReduceLROnPlateau reducing learning rate to 0.004999999888241291.\n",
      "\n",
      "Epoch 00008: val_accuracy did not improve from 0.95051\n",
      "147/147 [==============================] - 2s 16ms/step - loss: 0.2288 - accuracy: 0.9219 - val_loss: 0.1975 - val_accuracy: 0.9403\n",
      "Epoch 9/50\n",
      "145/147 [============================>.] - ETA: 0s - loss: 0.1768 - accuracy: 0.9360\n",
      "Epoch 00009: val_accuracy did not improve from 0.95051\n",
      "147/147 [==============================] - 2s 11ms/step - loss: 0.1774 - accuracy: 0.9360 - val_loss: 0.1627 - val_accuracy: 0.9505\n",
      "Epoch 10/50\n",
      "145/147 [============================>.] - ETA: 0s - loss: 0.2077 - accuracy: 0.9244\n",
      "Epoch 00010: val_accuracy did not improve from 0.95051\n",
      "147/147 [==============================] - 2s 13ms/step - loss: 0.2070 - accuracy: 0.9244 - val_loss: 0.1636 - val_accuracy: 0.9471\n",
      "Epoch 11/50\n",
      "143/147 [============================>.] - ETA: 0s - loss: 0.1847 - accuracy: 0.9323\n",
      "Epoch 00011: val_accuracy improved from 0.95051 to 0.95222, saving model to save_models/effnet.h5\n",
      "147/147 [==============================] - 2s 14ms/step - loss: 0.1843 - accuracy: 0.9319 - val_loss: 0.1515 - val_accuracy: 0.9522\n",
      "Epoch 12/50\n",
      "146/147 [============================>.] - ETA: 0s - loss: 0.1900 - accuracy: 0.9309\n",
      "Epoch 00012: val_accuracy did not improve from 0.95222\n",
      "147/147 [==============================] - 2s 11ms/step - loss: 0.1895 - accuracy: 0.9310 - val_loss: 0.1514 - val_accuracy: 0.9488\n",
      "Epoch 13/50\n",
      "145/147 [============================>.] - ETA: 0s - loss: 0.1721 - accuracy: 0.9315\n",
      "Epoch 00013: val_accuracy did not improve from 0.95222\n",
      "147/147 [==============================] - 2s 13ms/step - loss: 0.1720 - accuracy: 0.9315 - val_loss: 0.1402 - val_accuracy: 0.9505\n",
      "Epoch 14/50\n",
      "144/147 [============================>.] - ETA: 0s - loss: 0.1872 - accuracy: 0.9306\n",
      "Epoch 00014: ReduceLROnPlateau reducing learning rate to 0.0024999999441206455.\n",
      "\n",
      "Epoch 00014: val_accuracy did not improve from 0.95222\n",
      "147/147 [==============================] - 2s 12ms/step - loss: 0.1860 - accuracy: 0.9308 - val_loss: 0.1747 - val_accuracy: 0.9386\n",
      "Epoch 15/50\n",
      "146/147 [============================>.] - ETA: 0s - loss: 0.1702 - accuracy: 0.9377\n",
      "Epoch 00015: val_accuracy improved from 0.95222 to 0.95563, saving model to save_models/effnet.h5\n",
      "147/147 [==============================] - 2s 14ms/step - loss: 0.1705 - accuracy: 0.9374 - val_loss: 0.1469 - val_accuracy: 0.9556\n",
      "Epoch 16/50\n",
      "146/147 [============================>.] - ETA: 0s - loss: 0.1606 - accuracy: 0.9386\n",
      "Epoch 00016: val_accuracy did not improve from 0.95563\n",
      "147/147 [==============================] - 1s 10ms/step - loss: 0.1602 - accuracy: 0.9387 - val_loss: 0.1459 - val_accuracy: 0.9522\n",
      "Epoch 17/50\n",
      "143/147 [============================>.] - ETA: 0s - loss: 0.1539 - accuracy: 0.9423\n",
      "Epoch 00017: val_accuracy improved from 0.95563 to 0.95734, saving model to save_models/effnet.h5\n",
      "147/147 [==============================] - 2s 10ms/step - loss: 0.1531 - accuracy: 0.9428 - val_loss: 0.1498 - val_accuracy: 0.9573\n",
      "Epoch 18/50\n",
      "147/147 [==============================] - ETA: 0s - loss: 0.1708 - accuracy: 0.9342\n",
      "Epoch 00018: val_accuracy did not improve from 0.95734\n",
      "147/147 [==============================] - 2s 12ms/step - loss: 0.1708 - accuracy: 0.9342 - val_loss: 0.1392 - val_accuracy: 0.9488\n",
      "Epoch 19/50\n",
      "143/147 [============================>.] - ETA: 0s - loss: 0.1632 - accuracy: 0.9360\n",
      "Epoch 00019: val_accuracy did not improve from 0.95734\n",
      "147/147 [==============================] - 2s 12ms/step - loss: 0.1648 - accuracy: 0.9353 - val_loss: 0.1350 - val_accuracy: 0.9505\n",
      "Epoch 20/50\n",
      "145/147 [============================>.] - ETA: 0s - loss: 0.1626 - accuracy: 0.9351\n",
      "Epoch 00020: ReduceLROnPlateau reducing learning rate to 0.0012499999720603228.\n",
      "\n",
      "Epoch 00020: val_accuracy did not improve from 0.95734\n",
      "147/147 [==============================] - 2s 12ms/step - loss: 0.1655 - accuracy: 0.9349 - val_loss: 0.1430 - val_accuracy: 0.9454\n",
      "Epoch 21/50\n",
      "146/147 [============================>.] - ETA: 0s - loss: 0.1563 - accuracy: 0.9377\n",
      "Epoch 00021: val_accuracy did not improve from 0.95734\n",
      "147/147 [==============================] - 2s 12ms/step - loss: 0.1561 - accuracy: 0.9379 - val_loss: 0.1356 - val_accuracy: 0.9488\n",
      "Epoch 22/50\n",
      "140/147 [===========================>..] - ETA: 0s - loss: 0.1559 - accuracy: 0.9404\n",
      "Epoch 00022: val_accuracy did not improve from 0.95734\n",
      "147/147 [==============================] - 2s 11ms/step - loss: 0.1575 - accuracy: 0.9394 - val_loss: 0.1329 - val_accuracy: 0.9488\n",
      "Epoch 23/50\n",
      "141/147 [===========================>..] - ETA: 0s - loss: 0.1497 - accuracy: 0.9406\n",
      "Epoch 00023: val_accuracy improved from 0.95734 to 0.95904, saving model to save_models/effnet.h5\n",
      "147/147 [==============================] - 2s 11ms/step - loss: 0.1535 - accuracy: 0.9396 - val_loss: 0.1264 - val_accuracy: 0.9590\n",
      "Epoch 24/50\n",
      "146/147 [============================>.] - ETA: 0s - loss: 0.1405 - accuracy: 0.9424\n",
      "Epoch 00024: val_accuracy did not improve from 0.95904\n",
      "147/147 [==============================] - 2s 10ms/step - loss: 0.1419 - accuracy: 0.9419 - val_loss: 0.1296 - val_accuracy: 0.9556\n",
      "Epoch 25/50\n",
      "143/147 [============================>.] - ETA: 0s - loss: 0.1465 - accuracy: 0.9443\n",
      "Epoch 00025: val_accuracy did not improve from 0.95904\n",
      "147/147 [==============================] - 2s 10ms/step - loss: 0.1459 - accuracy: 0.9441 - val_loss: 0.1304 - val_accuracy: 0.9556\n",
      "Epoch 26/50\n",
      "146/147 [============================>.] - ETA: 0s - loss: 0.1506 - accuracy: 0.9443\n",
      "Epoch 00026: ReduceLROnPlateau reducing learning rate to 0.0006249999860301614.\n",
      "\n",
      "Epoch 00026: val_accuracy did not improve from 0.95904\n",
      "147/147 [==============================] - 2s 10ms/step - loss: 0.1502 - accuracy: 0.9445 - val_loss: 0.1273 - val_accuracy: 0.9556\n",
      "Epoch 27/50\n",
      "142/147 [===========================>..] - ETA: 0s - loss: 0.1484 - accuracy: 0.9432\n",
      "Epoch 00027: val_accuracy did not improve from 0.95904\n",
      "147/147 [==============================] - 2s 11ms/step - loss: 0.1488 - accuracy: 0.9430 - val_loss: 0.1275 - val_accuracy: 0.9539\n",
      "Epoch 28/50\n",
      "142/147 [===========================>..] - ETA: 0s - loss: 0.1477 - accuracy: 0.9395\n",
      "Epoch 00028: val_accuracy did not improve from 0.95904\n",
      "147/147 [==============================] - 2s 11ms/step - loss: 0.1460 - accuracy: 0.9402 - val_loss: 0.1294 - val_accuracy: 0.9539\n",
      "Epoch 29/50\n",
      "147/147 [==============================] - ETA: 0s - loss: 0.1481 - accuracy: 0.9419\n",
      "Epoch 00029: ReduceLROnPlateau reducing learning rate to 0.0003124999930150807.\n",
      "\n",
      "Epoch 00029: val_accuracy did not improve from 0.95904\n",
      "147/147 [==============================] - 2s 10ms/step - loss: 0.1481 - accuracy: 0.9419 - val_loss: 0.1260 - val_accuracy: 0.9573\n",
      "Epoch 30/50\n",
      "145/147 [============================>.] - ETA: 0s - loss: 0.1431 - accuracy: 0.9438\n",
      "Epoch 00030: val_accuracy did not improve from 0.95904\n",
      "147/147 [==============================] - 2s 12ms/step - loss: 0.1434 - accuracy: 0.9441 - val_loss: 0.1288 - val_accuracy: 0.9573\n",
      "Epoch 31/50\n",
      "146/147 [============================>.] - ETA: 0s - loss: 0.1389 - accuracy: 0.9478\n",
      "Epoch 00031: val_accuracy did not improve from 0.95904\n",
      "147/147 [==============================] - 2s 12ms/step - loss: 0.1389 - accuracy: 0.9477 - val_loss: 0.1254 - val_accuracy: 0.9556\n",
      "Epoch 32/50\n",
      "145/147 [============================>.] - ETA: 0s - loss: 0.1440 - accuracy: 0.9461\n",
      "Epoch 00032: ReduceLROnPlateau reducing learning rate to 0.00015624999650754035.\n",
      "\n",
      "Epoch 00032: val_accuracy did not improve from 0.95904\n",
      "147/147 [==============================] - 2s 13ms/step - loss: 0.1436 - accuracy: 0.9464 - val_loss: 0.1242 - val_accuracy: 0.9573\n",
      "Epoch 33/50\n",
      "143/147 [============================>.] - ETA: 0s - loss: 0.1367 - accuracy: 0.9467\n",
      "Epoch 00033: val_accuracy did not improve from 0.95904\n",
      "147/147 [==============================] - 1s 10ms/step - loss: 0.1373 - accuracy: 0.9468 - val_loss: 0.1264 - val_accuracy: 0.9556\n",
      "Epoch 00033: early stopping\n"
     ]
    }
   ],
   "source": [
    "# from tensorflow.keras.preprocessing.image import ImageDataGenerator\n",
    "from tensorflow.keras.callbacks import ReduceLROnPlateau, EarlyStopping, ModelCheckpoint\n",
    "from tensorflow.keras.optimizers import Adam\n",
    "\n",
    "Path(\"save_models\").mkdir(parents=True, exist_ok=True)#create a directory to save checkpoints\n",
    "\n",
    "filepath = \"save_models/effnet.h5\"\n",
    "\n",
    "callbacks = [ReduceLROnPlateau(monitor='val_accuracy', factor=0.5, patience=3, verbose=1),\n",
    "           EarlyStopping(monitor='val_accuracy', patience=10, verbose=1),\n",
    "           ModelCheckpoint(filepath, monitor='val_accuracy', save_best_only=True, verbose=1)]\n",
    "\n",
    "model.compile(loss='binary_crossentropy',\n",
    "              optimizer=Adam(lr=1e-2), #High LR as we are training only the last Dense layer\n",
    "              metrics=['accuracy'])\n",
    "\n",
    "#If you obtain an out of memory arror, reduce the batch_size to 8 or 4\n",
    "history = model.fit(X_train, y_train, batch_size=32, epochs=50, validation_data=(X_valid, y_valid), callbacks=callbacks)"
   ]
  },
  {
   "cell_type": "markdown",
   "metadata": {},
   "source": [
    "At this step we already have a good accuracy of about 0.96.  \n",
    "Yet, it can be increased even more by using fine tuning : we unfreeze some of the last pre-trained layers and train them with a lower Learning Rate"
   ]
  },
  {
   "cell_type": "code",
   "execution_count": 344,
   "metadata": {},
   "outputs": [
    {
     "name": "stdout",
     "output_type": "stream",
     "text": [
      "Epoch 1/50\n",
      "147/147 [==============================] - ETA: 0s - loss: 0.3244 - accuracy: 0.8888\n",
      "Epoch 00001: val_accuracy improved from -inf to 0.78669, saving model to save_models/effnet_FT.h5\n",
      "147/147 [==============================] - 5s 32ms/step - loss: 0.3244 - accuracy: 0.8888 - val_loss: 0.6300 - val_accuracy: 0.7867\n",
      "Epoch 2/50\n",
      "145/147 [============================>.] - ETA: 0s - loss: 0.1363 - accuracy: 0.9543\n",
      "Epoch 00002: val_accuracy did not improve from 0.78669\n",
      "147/147 [==============================] - 3s 23ms/step - loss: 0.1394 - accuracy: 0.9537 - val_loss: 0.5856 - val_accuracy: 0.7867\n",
      "Epoch 3/50\n",
      "147/147 [==============================] - ETA: 0s - loss: 0.1017 - accuracy: 0.9633\n",
      "Epoch 00003: val_accuracy improved from 0.78669 to 0.91126, saving model to save_models/effnet_FT.h5\n",
      "147/147 [==============================] - 4s 27ms/step - loss: 0.1017 - accuracy: 0.9633 - val_loss: 0.2205 - val_accuracy: 0.9113\n",
      "Epoch 4/50\n",
      "147/147 [==============================] - ETA: 0s - loss: 0.0866 - accuracy: 0.9712\n",
      "Epoch 00004: val_accuracy improved from 0.91126 to 0.95904, saving model to save_models/effnet_FT.h5\n",
      "147/147 [==============================] - 4s 26ms/step - loss: 0.0866 - accuracy: 0.9712 - val_loss: 0.1133 - val_accuracy: 0.9590\n",
      "Epoch 5/50\n",
      "146/147 [============================>.] - ETA: 0s - loss: 0.0635 - accuracy: 0.9769\n",
      "Epoch 00005: val_accuracy did not improve from 0.95904\n",
      "147/147 [==============================] - 4s 24ms/step - loss: 0.0640 - accuracy: 0.9765 - val_loss: 0.2234 - val_accuracy: 0.9352\n",
      "Epoch 6/50\n",
      "147/147 [==============================] - ETA: 0s - loss: 0.0655 - accuracy: 0.9750\n",
      "Epoch 00006: val_accuracy improved from 0.95904 to 0.96075, saving model to save_models/effnet_FT.h5\n",
      "147/147 [==============================] - 4s 27ms/step - loss: 0.0655 - accuracy: 0.9750 - val_loss: 0.1195 - val_accuracy: 0.9608\n",
      "Epoch 7/50\n",
      "145/147 [============================>.] - ETA: 0s - loss: 0.0506 - accuracy: 0.9830\n",
      "Epoch 00007: val_accuracy improved from 0.96075 to 0.96758, saving model to save_models/effnet_FT.h5\n",
      "147/147 [==============================] - 4s 27ms/step - loss: 0.0504 - accuracy: 0.9829 - val_loss: 0.1192 - val_accuracy: 0.9676\n",
      "Epoch 8/50\n",
      "146/147 [============================>.] - ETA: 0s - loss: 0.0391 - accuracy: 0.9844\n",
      "Epoch 00008: val_accuracy did not improve from 0.96758\n",
      "147/147 [==============================] - 4s 24ms/step - loss: 0.0391 - accuracy: 0.9844 - val_loss: 0.2018 - val_accuracy: 0.9590\n",
      "Epoch 9/50\n",
      "146/147 [============================>.] - ETA: 0s - loss: 0.0447 - accuracy: 0.9852\n",
      "Epoch 00009: val_accuracy did not improve from 0.96758\n",
      "147/147 [==============================] - 4s 26ms/step - loss: 0.0447 - accuracy: 0.9853 - val_loss: 0.1286 - val_accuracy: 0.9676\n",
      "Epoch 10/50\n",
      "147/147 [==============================] - ETA: 0s - loss: 0.0321 - accuracy: 0.9887\n",
      "Epoch 00010: val_accuracy improved from 0.96758 to 0.96928, saving model to save_models/effnet_FT.h5\n",
      "147/147 [==============================] - 4s 29ms/step - loss: 0.0321 - accuracy: 0.9887 - val_loss: 0.1166 - val_accuracy: 0.9693\n",
      "Epoch 11/50\n",
      "147/147 [==============================] - ETA: 0s - loss: 0.0365 - accuracy: 0.9878\n",
      "Epoch 00011: val_accuracy improved from 0.96928 to 0.97270, saving model to save_models/effnet_FT.h5\n",
      "147/147 [==============================] - 4s 28ms/step - loss: 0.0365 - accuracy: 0.9878 - val_loss: 0.1629 - val_accuracy: 0.9727\n",
      "Epoch 12/50\n",
      "146/147 [============================>.] - ETA: 0s - loss: 0.0262 - accuracy: 0.9902\n",
      "Epoch 00012: val_accuracy did not improve from 0.97270\n",
      "147/147 [==============================] - 4s 24ms/step - loss: 0.0314 - accuracy: 0.9895 - val_loss: 0.1014 - val_accuracy: 0.9710\n",
      "Epoch 13/50\n",
      "146/147 [============================>.] - ETA: 0s - loss: 0.0665 - accuracy: 0.9790\n",
      "Epoch 00013: val_accuracy did not improve from 0.97270\n",
      "147/147 [==============================] - 4s 24ms/step - loss: 0.0664 - accuracy: 0.9791 - val_loss: 0.0837 - val_accuracy: 0.9659\n",
      "Epoch 14/50\n",
      "146/147 [============================>.] - ETA: 0s - loss: 0.0403 - accuracy: 0.9857\n",
      "Epoch 00014: ReduceLROnPlateau reducing learning rate to 0.0002500000118743628.\n",
      "\n",
      "Epoch 00014: val_accuracy did not improve from 0.97270\n",
      "147/147 [==============================] - 4s 25ms/step - loss: 0.0404 - accuracy: 0.9857 - val_loss: 0.1028 - val_accuracy: 0.9659\n",
      "Epoch 15/50\n",
      "146/147 [============================>.] - ETA: 0s - loss: 0.0192 - accuracy: 0.9946\n",
      "Epoch 00015: val_accuracy improved from 0.97270 to 0.97440, saving model to save_models/effnet_FT.h5\n",
      "147/147 [==============================] - 4s 27ms/step - loss: 0.0191 - accuracy: 0.9947 - val_loss: 0.0832 - val_accuracy: 0.9744\n",
      "Epoch 16/50\n",
      "147/147 [==============================] - ETA: 0s - loss: 0.0060 - accuracy: 0.9979\n",
      "Epoch 00016: val_accuracy improved from 0.97440 to 0.97611, saving model to save_models/effnet_FT.h5\n",
      "147/147 [==============================] - 4s 30ms/step - loss: 0.0060 - accuracy: 0.9979 - val_loss: 0.0838 - val_accuracy: 0.9761\n",
      "Epoch 17/50\n",
      "146/147 [============================>.] - ETA: 0s - loss: 0.0103 - accuracy: 0.9972\n",
      "Epoch 00017: val_accuracy improved from 0.97611 to 0.98123, saving model to save_models/effnet_FT.h5\n",
      "147/147 [==============================] - 4s 27ms/step - loss: 0.0102 - accuracy: 0.9972 - val_loss: 0.0889 - val_accuracy: 0.9812\n",
      "Epoch 18/50\n",
      "145/147 [============================>.] - ETA: 0s - loss: 0.0071 - accuracy: 0.9974\n",
      "Epoch 00018: val_accuracy did not improve from 0.98123\n",
      "147/147 [==============================] - 3s 23ms/step - loss: 0.0071 - accuracy: 0.9974 - val_loss: 0.1093 - val_accuracy: 0.9693\n",
      "Epoch 19/50\n",
      "147/147 [==============================] - ETA: 0s - loss: 0.0074 - accuracy: 0.9981\n",
      "Epoch 00019: val_accuracy did not improve from 0.98123\n",
      "147/147 [==============================] - 4s 24ms/step - loss: 0.0074 - accuracy: 0.9981 - val_loss: 0.0973 - val_accuracy: 0.9778\n",
      "Epoch 20/50\n",
      "145/147 [============================>.] - ETA: 0s - loss: 0.0049 - accuracy: 0.9978\n",
      "Epoch 00020: ReduceLROnPlateau reducing learning rate to 0.0001250000059371814.\n",
      "\n",
      "Epoch 00020: val_accuracy did not improve from 0.98123\n",
      "147/147 [==============================] - 3s 24ms/step - loss: 0.0049 - accuracy: 0.9979 - val_loss: 0.1317 - val_accuracy: 0.9659\n",
      "Epoch 21/50\n",
      "146/147 [============================>.] - ETA: 0s - loss: 0.0018 - accuracy: 1.0000\n",
      "Epoch 00021: val_accuracy did not improve from 0.98123\n",
      "147/147 [==============================] - 4s 24ms/step - loss: 0.0018 - accuracy: 1.0000 - val_loss: 0.1228 - val_accuracy: 0.9693\n",
      "Epoch 22/50\n",
      "147/147 [==============================] - ETA: 0s - loss: 0.0015 - accuracy: 0.9996\n",
      "Epoch 00022: val_accuracy did not improve from 0.98123\n",
      "147/147 [==============================] - 3s 23ms/step - loss: 0.0015 - accuracy: 0.9996 - val_loss: 0.1216 - val_accuracy: 0.9761\n",
      "Epoch 23/50\n",
      "146/147 [============================>.] - ETA: 0s - loss: 9.2907e-04 - accuracy: 0.9998\n",
      "Epoch 00023: ReduceLROnPlateau reducing learning rate to 6.25000029685907e-05.\n",
      "\n",
      "Epoch 00023: val_accuracy did not improve from 0.98123\n",
      "147/147 [==============================] - 4s 28ms/step - loss: 9.2673e-04 - accuracy: 0.9998 - val_loss: 0.1077 - val_accuracy: 0.9778\n",
      "Epoch 24/50\n",
      "145/147 [============================>.] - ETA: 0s - loss: 0.0010 - accuracy: 0.9998\n",
      "Epoch 00024: val_accuracy did not improve from 0.98123\n",
      "147/147 [==============================] - 4s 26ms/step - loss: 0.0010 - accuracy: 0.9998 - val_loss: 0.1199 - val_accuracy: 0.9727\n",
      "Epoch 25/50\n",
      "146/147 [============================>.] - ETA: 0s - loss: 0.0015 - accuracy: 0.9996\n",
      "Epoch 00025: val_accuracy did not improve from 0.98123\n",
      "147/147 [==============================] - 4s 25ms/step - loss: 0.0015 - accuracy: 0.9996 - val_loss: 0.1156 - val_accuracy: 0.9744\n",
      "Epoch 26/50\n",
      "146/147 [============================>.] - ETA: 0s - loss: 0.0019 - accuracy: 0.9994\n",
      "Epoch 00026: ReduceLROnPlateau reducing learning rate to 3.125000148429535e-05.\n",
      "\n",
      "Epoch 00026: val_accuracy did not improve from 0.98123\n",
      "147/147 [==============================] - 4s 25ms/step - loss: 0.0019 - accuracy: 0.9994 - val_loss: 0.1240 - val_accuracy: 0.9710\n",
      "Epoch 27/50\n",
      "146/147 [============================>.] - ETA: 0s - loss: 7.5003e-04 - accuracy: 1.0000\n",
      "Epoch 00027: val_accuracy did not improve from 0.98123\n",
      "147/147 [==============================] - 4s 24ms/step - loss: 7.5389e-04 - accuracy: 1.0000 - val_loss: 0.1117 - val_accuracy: 0.9744\n",
      "Epoch 00027: early stopping\n"
     ]
    }
   ],
   "source": [
    "from tensorflow.keras.models import load_model\n",
    "model = load_model('save_models/effnet.h5')\n",
    "\n",
    "for layer in model.layers[-20:]:#let's unfreeze some layers, the 20 last ones\n",
    "    if not isinstance(layer, BatchNormalization):\n",
    "        layer.trainable = True\n",
    "\n",
    "filepath = \"save_models/effnet_FT.h5\"\n",
    "\n",
    "callbacks = [ReduceLROnPlateau(monitor='val_accuracy', factor=0.5, patience=3, verbose=1),\n",
    "           EarlyStopping(monitor='val_accuracy', patience=10, verbose=1),\n",
    "           ModelCheckpoint(filepath, monitor='val_accuracy', save_best_only=True, verbose=1)]\n",
    "\n",
    "\n",
    "model.compile(loss='binary_crossentropy',\n",
    "              optimizer=Adam(lr=5e-4), #we reduce a bit the LR\n",
    "              metrics=['accuracy'])\n",
    "\n",
    "history = model.fit(X_train, y_train, batch_size=32, epochs=50, validation_data=(X_valid, y_valid), callbacks=callbacks)"
   ]
  },
  {
   "cell_type": "markdown",
   "metadata": {},
   "source": [
    "The accuracy has now reached aroud 0.98 on the validation set.  \n",
    "Let's see how our model is doing on the test set :"
   ]
  },
  {
   "cell_type": "markdown",
   "metadata": {},
   "source": [
    "# 3 ) Prediction on the test set"
   ]
  },
  {
   "cell_type": "code",
   "execution_count": 345,
   "metadata": {},
   "outputs": [],
   "source": [
    "from tensorflow.keras.models import load_model\n",
    "from mlxtend.plotting import plot_confusion_matrix\n",
    "from sklearn.metrics import confusion_matrix\n",
    "\n",
    "model = load_model('save_models/effnet_FT.h5') #uncomment if you want to look at the results without fine tuning"
   ]
  },
  {
   "cell_type": "code",
   "execution_count": 346,
   "metadata": {},
   "outputs": [],
   "source": [
    "pred = model.predict(X_test)\n",
    "y_pred = np.array([0 if val<0.5 else 1 for val in pred])\n",
    "y_pred = np.expand_dims(y_pred, axis=-1)"
   ]
  },
  {
   "cell_type": "code",
   "execution_count": 347,
   "metadata": {},
   "outputs": [
    {
     "data": {
      "image/png": "[encoded data removed]",
      "text/plain": [
       "<Figure size 360x360 with 1 Axes>"
      ]
     },
     "metadata": {
      "needs_background": "light"
     },
     "output_type": "display_data"
    }
   ],
   "source": [
    "CM = confusion_matrix(y_test, y_pred)\n",
    "fig, ax = plot_confusion_matrix(conf_mat=CM ,  figsize=(5, 5))\n",
    "plt.show()"
   ]
  },
  {
   "cell_type": "code",
   "execution_count": 348,
   "metadata": {},
   "outputs": [
    {
     "name": "stdout",
     "output_type": "stream",
     "text": [
      "recall = 0.983796\n",
      "precision = 0.986079\n",
      "F1_score = 0.984936\n"
     ]
    }
   ],
   "source": [
    "precision, recall, F1_score = get_scores(y_test, y_pred)\n",
    "\n",
    "print (f\"recall = {recall:05f}\")\n",
    "print (f\"precision = {precision:05f}\")\n",
    "print (f\"F1_score = {F1_score:05f}\")"
   ]
  },
  {
   "cell_type": "markdown",
   "metadata": {},
   "source": [
    "# 4) Misprediction analysis"
   ]
  },
  {
   "cell_type": "code",
   "execution_count": 349,
   "metadata": {},
   "outputs": [
    {
     "name": "stdout",
     "output_type": "stream",
     "text": [
      "img 17 : Predicted Normal instead of Pneumonia\n",
      "img 24 : Predicted Pneumonia instead of Normal\n",
      "img 30 : Predicted Pneumonia instead of Normal\n",
      "img 203 : Predicted Normal instead of Pneumonia\n",
      "img 219 : Predicted Pneumonia instead of Normal\n",
      "img 257 : Predicted Pneumonia instead of Normal\n",
      "img 258 : Predicted Normal instead of Pneumonia\n",
      "img 338 : Predicted Pneumonia instead of Normal\n",
      "img 382 : Predicted Normal instead of Pneumonia\n",
      "img 431 : Predicted Normal instead of Pneumonia\n",
      "img 436 : Predicted Normal instead of Pneumonia\n",
      "img 489 : Predicted Pneumonia instead of Normal\n",
      "img 533 : Predicted Normal instead of Pneumonia\n"
     ]
    }
   ],
   "source": [
    "label = [\"Normal\", \"Pneumonia\"]\n",
    "for num in range(y_test.shape[0]):\n",
    "    if (y_test[num, 0] != y_pred[num, 0]):\n",
    "        print (f\"img {num} : Predicted {label[y_pred[num, 0]]} instead of {label[y_test[num, 0]]}\")"
   ]
  },
  {
   "cell_type": "code",
   "execution_count": 335,
   "metadata": {},
   "outputs": [
    {
     "data": {
      "text/plain": [
       "<matplotlib.image.AxesImage at 0x7fd974f6fcd0>"
      ]
     },
     "execution_count": 335,
     "metadata": {},
     "output_type": "execute_result"
    },
    {
     "data": {
      "image/png": "[encoded data removed]",
      "text/plain": [
       "<Figure size 720x720 with 1 Axes>"
      ]
     },
     "metadata": {
      "needs_background": "light"
     },
     "output_type": "display_data"
    }
   ],
   "source": [
    "#Let's look at these mispredictions\n",
    "num = 17 #Change this number. The mispredictions appears above\n",
    "\n",
    "plt.figure(figsize=(10, 10))\n",
    "if y_true[num, 0] != y_pred[num, 0]:\n",
    "    plt.title(f\"img {num} : Predicted {label[y_pred[num, 0]]} instead of {label[y_test[num, 0]]}\")\n",
    "else:\n",
    "    plt.title(f\"img {num} : Good prediction : {label[y_pred[num, 0]]}\")\n",
    "plt.imshow(X_test[num])"
   ]
  }
 ],
 "metadata": {
  "kernelspec": {
   "display_name": "Python (tf2)",
   "language": "python",
   "name": "tf2"
  },
  "language_info": {
   "codemirror_mode": {
    "name": "ipython",
    "version": 3
   },
   "file_extension": ".py",
   "mimetype": "text/x-python",
   "name": "python",
   "nbconvert_exporter": "python",
   "pygments_lexer": "ipython3",
   "version": "3.7.9"
  }
 },
 "nbformat": 4,
 "nbformat_minor": 4
}
